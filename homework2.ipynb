{
 "cells": [
  {
   "cell_type": "code",
   "execution_count": 1,
   "metadata": {},
   "outputs": [],
   "source": [
    "import os\n",
    "from dotenv import load_dotenv\n",
    "load_dotenv(override=True)\n",
    "HF_TOKEN= os.getenv(\"HF_TOKEN\")\n"
   ]
  },
  {
   "cell_type": "code",
   "execution_count": 2,
   "metadata": {},
   "outputs": [
    {
     "name": "stdout",
     "output_type": "stream",
     "text": [
      "Q1. Running Ollama with Docker\n",
      "What's the version of ollama client?\n",
      "\n",
      "In the container type ollama -v = 0.1.48\n"
     ]
    }
   ],
   "source": [
    "print('Q1. Running Ollama with Docker')\n",
    "print(\"What's the version of ollama client?\")\n",
    "print(\"\\nIn the container type ollama -v = 0.1.48\")"
   ]
  },
  {
   "cell_type": "code",
   "execution_count": 3,
   "metadata": {},
   "outputs": [
    {
     "name": "stdout",
     "output_type": "stream",
     "text": [
      "Q2. We're interested in the metadata about this model. \n",
      "You can find it in models/manifests/registry.ollama.ai/library\n",
      "What's the content of the file related to gemma?\n",
      "\n",
      "from the bash you go to cd models/manifests/registry.ollama.ai/library/ there you will find the gemma folder.\n",
      "Inside the genna folder there is a file '2b', this file has the contents below:\n",
      "\n",
      "    {\n",
      "      \"schemaVersion\":2,\n",
      "        \"mediaType\":\"application/vnd.docker.distribution.manifest.v2+json\",\n",
      "        \"config\":{\n",
      "        \"mediaType\":\"application/vnd.docker.container.image.v1+json\",\n",
      "        \"digest\":\"sha256:887433b89a901c156f7e6944442f3c9e57f3c55d6ed52042cbb7303aea994290\",\n",
      "        \"size\":483\n",
      "        },\n",
      "        \"layers\":[\n",
      "        {\n",
      "        \"mediaType\":\"application/vnd.ollama.image.model\",\n",
      "        \"digest\":\"sha256:c1864a5eb19305c40519da12cc543519e48a0697ecd30e15d5ac228644957d12\",\n",
      "        \"size\":1678447520\n",
      "        },\n",
      "        {\n",
      "        \"mediaType\":\"application/vnd.ollama.image.license\",\n",
      "        \"digest\":\"sha256:097a36493f718248845233af1d3fefe7a303f864fae13bc31a3a9704229378ca\",\n",
      "        \"size\":8433\n",
      "        },\n",
      "        {\n",
      "        \"mediaType\":\"application/vnd.ollama.image.template\",\n",
      "        \"digest\":\"sha256:109037bec39c0becc8221222ae23557559bc594290945a2c4221ab4f303b8871\",\n",
      "        \"size\":136\n",
      "        },\n",
      "        {\n",
      "        \"mediaType\":\"application/vnd.ollama.image.params\",\n",
      "        \"digest\":\"sha256:22a838ceb7fb22755a3b0ae9b4eadde629d19be1f651f73efb8c6b4e2cd0eea0\",\n",
      "        \"size\":84\n",
      "        }\n",
      "        ]\n",
      "    }\n",
      "      \n"
     ]
    }
   ],
   "source": [
    "print(\"Q2. We're interested in the metadata about this model. \\nYou can find it in models/manifests/registry.ollama.ai/library\\nWhat's the content of the file related to gemma?\")\n",
    "print(\"\\nfrom the bash you go to cd models/manifests/registry.ollama.ai/library/ there you will find the gemma folder.\\nInside the genna folder there is a file '2b', this file has the contents below:\")\n",
    "\n",
    "print(\"\"\"\n",
    "    {\n",
    "      \"schemaVersion\":2,\n",
    "        \"mediaType\":\"application/vnd.docker.distribution.manifest.v2+json\",\n",
    "        \"config\":{\n",
    "        \"mediaType\":\"application/vnd.docker.container.image.v1+json\",\n",
    "        \"digest\":\"sha256:887433b89a901c156f7e6944442f3c9e57f3c55d6ed52042cbb7303aea994290\",\n",
    "        \"size\":483\n",
    "        },\n",
    "        \"layers\":[\n",
    "        {\n",
    "        \"mediaType\":\"application/vnd.ollama.image.model\",\n",
    "        \"digest\":\"sha256:c1864a5eb19305c40519da12cc543519e48a0697ecd30e15d5ac228644957d12\",\n",
    "        \"size\":1678447520\n",
    "        },\n",
    "        {\n",
    "        \"mediaType\":\"application/vnd.ollama.image.license\",\n",
    "        \"digest\":\"sha256:097a36493f718248845233af1d3fefe7a303f864fae13bc31a3a9704229378ca\",\n",
    "        \"size\":8433\n",
    "        },\n",
    "        {\n",
    "        \"mediaType\":\"application/vnd.ollama.image.template\",\n",
    "        \"digest\":\"sha256:109037bec39c0becc8221222ae23557559bc594290945a2c4221ab4f303b8871\",\n",
    "        \"size\":136\n",
    "        },\n",
    "        {\n",
    "        \"mediaType\":\"application/vnd.ollama.image.params\",\n",
    "        \"digest\":\"sha256:22a838ceb7fb22755a3b0ae9b4eadde629d19be1f651f73efb8c6b4e2cd0eea0\",\n",
    "        \"size\":84\n",
    "        }\n",
    "        ]\n",
    "    }\n",
    "      \"\"\")"
   ]
  },
  {
   "cell_type": "code",
   "execution_count": 4,
   "metadata": {},
   "outputs": [
    {
     "name": "stderr",
     "output_type": "stream",
     "text": [
      "`config.hidden_act` is ignored, you should use `config.hidden_activation` instead.\n",
      "Gemma's activation function will be set to `gelu_pytorch_tanh`. Please, use\n",
      "`config.hidden_activation` if you want to override this behaviour.\n",
      "See https://github.com/huggingface/transformers/pull/29402 for more details.\n"
     ]
    },
    {
     "data": {
      "application/vnd.jupyter.widget-view+json": {
       "model_id": "f7556f73f40845fe816c40142614ff75",
       "version_major": 2,
       "version_minor": 0
      },
      "text/plain": [
       "Loading checkpoint shards:   0%|          | 0/2 [00:00<?, ?it/s]"
      ]
     },
     "metadata": {},
     "output_type": "display_data"
    }
   ],
   "source": [
    "# pip install accelerate\n",
    "from transformers import AutoTokenizer, AutoModelForCausalLM\n",
    "\n",
    "#model has a token from os.getenv(\"HF_TOKEN\")\n",
    "tokenizer = AutoTokenizer.from_pretrained(\"google/gemma-2b\")\n",
    "model = AutoModelForCausalLM.from_pretrained(\"google/gemma-2b\", device_map=\"auto\")"
   ]
  },
  {
   "cell_type": "code",
   "execution_count": 5,
   "metadata": {},
   "outputs": [
    {
     "name": "stderr",
     "output_type": "stream",
     "text": [
      "/home/codespace/.python/current/lib/python3.10/site-packages/transformers/generation/utils.py:1249: UserWarning: Using the model-agnostic default `max_length` (=20) to control the generation length. We recommend setting `max_new_tokens` to control the maximum length of the generation.\n",
      "  warnings.warn(\n"
     ]
    },
    {
     "name": "stdout",
     "output_type": "stream",
     "text": [
      "Q3. Running the LLM\n",
      "Test the following prompt: \"10 * 10\". What's the answer?\n",
      "\n",
      " <bos>10*10*10*10*10*10*1\n"
     ]
    }
   ],
   "source": [
    "input_text = \"10*10\"\n",
    "input_ids = tokenizer(input_text, return_tensors=\"pt\")\n",
    "outputs = model.generate(**input_ids)\n",
    "answer = tokenizer.decode(outputs[0])\n",
    "\n",
    "print('Q3. Running the LLM')\n",
    "print('Test the following prompt: \"10 * 10\". What\\'s the answer?')\n",
    "print('\\n', answer)\n"
   ]
  },
  {
   "cell_type": "code",
   "execution_count": 6,
   "metadata": {},
   "outputs": [
    {
     "name": "stdout",
     "output_type": "stream",
     "text": [
      "\n",
      "Q4. Donwloading the weights\n",
      "What's the size of the ollama_files/models folder?\n",
      "\n",
      "1.7gb\n"
     ]
    }
   ],
   "source": [
    "print('\\nQ4. Donwloading the weights')\n",
    "print('What\\'s the size of the ollama_files/models folder?')\n",
    "print('\\n1.7gb')"
   ]
  },
  {
   "cell_type": "code",
   "execution_count": 7,
   "metadata": {},
   "outputs": [
    {
     "name": "stdout",
     "output_type": "stream",
     "text": [
      "\n",
      "Q5. Ading the weights\n",
      "For that, let's create a Dockerfile:\n",
      "FROM ollama/ollama\n",
      "COPY ...\n",
      "What do you put after COPY?\n",
      "\n",
      "<local_source_dir> <container_dest_dir>\n",
      "\n",
      "./ollama_files root/.ollama\n"
     ]
    }
   ],
   "source": [
    "print('\\nQ5. Ading the weights')\n",
    "print('For that, let\\'s create a Dockerfile:\\nFROM ollama/ollama\\nCOPY ...\\nWhat do you put after COPY?')\n",
    "print('\\n<local_source_dir> <container_dest_dir>')\n",
    "\n",
    "print('\\n./ollama_files root/.ollama')"
   ]
  },
  {
   "cell_type": "code",
   "execution_count": 8,
   "metadata": {},
   "outputs": [],
   "source": [
    "from openai import OpenAI\n",
    "\n",
    "client = OpenAI(\n",
    "    base_url=\"http://localhost:11434/v1\",\n",
    "    api_key='ollama'\n",
    ")\n",
    "\n",
    "q = \"What's the formula for energy?\""
   ]
  },
  {
   "cell_type": "code",
   "execution_count": 9,
   "metadata": {},
   "outputs": [],
   "source": [
    "try:\n",
    "    response = client.chat.completions.create(\n",
    "        temperature=0.0,\n",
    "        model=\"gemma:2b\",\n",
    "        messages=[{\"role\": \"user\", \"content\": q}]\n",
    "    )\n",
    "    #print(response.choices[0].message.content)\n",
    "    answer=response.choices[0].message.content\n",
    "    \n",
    "except Exception as e:\n",
    "    print(f\"Error: {e}\")\n"
   ]
  },
  {
   "cell_type": "code",
   "execution_count": 10,
   "metadata": {},
   "outputs": [
    {
     "data": {
      "text/plain": [
       "\"Sure, here's the formula for energy:\\n\\n**E = K + U**\\n\\nWhere:\\n\\n* **E** is the energy in joules (J)\\n* **K** is the kinetic energy in joules (J)\\n* **U** is the potential energy in joules (J)\\n\\n**Kinetic energy (K)** is the energy an object possesses when it moves or is in motion. It is calculated as half the product of an object's mass (m) and its velocity (v) squared:\\n\\n**K = 1/2mv^2**\\n\\n**Potential energy (U)** is the energy an object possesses due to its position or configuration. It is calculated as the product of an object's mass, gravitational constant (g), and height or position above a reference point.\\n\\n**U = mgh**\\n\\nWhere:\\n\\n* **m** is the mass in kilograms (kg)\\n* **g** is the gravitational constant (9.8 m/s^2)\\n* **h** is the height or position in meters (m)\\n\\nThe formula shows that energy can be expressed as the sum of kinetic and potential energy. The kinetic energy is a measure of the object's ability to do work, while the potential energy is a measure of the object's ability to do work against a force.\""
      ]
     },
     "execution_count": 10,
     "metadata": {},
     "output_type": "execute_result"
    }
   ],
   "source": [
    "answer"
   ]
  },
  {
   "cell_type": "code",
   "execution_count": 13,
   "metadata": {},
   "outputs": [
    {
     "name": "stdout",
     "output_type": "stream",
     "text": [
      "Q6. Serving it\n",
      "How many completion tokens did you get in response?\n",
      "281 tokens\n"
     ]
    }
   ],
   "source": [
    "tokens = tokenizer.encode(answer)\n",
    "\n",
    "print('Q6. Serving it')\n",
    "print('How many completion tokens did you get in response?')\n",
    "print(len(tokens),\"tokens\")"
   ]
  }
 ],
 "metadata": {
  "kernelspec": {
   "display_name": "Python 3",
   "language": "python",
   "name": "python3"
  },
  "language_info": {
   "codemirror_mode": {
    "name": "ipython",
    "version": 3
   },
   "file_extension": ".py",
   "mimetype": "text/x-python",
   "name": "python",
   "nbconvert_exporter": "python",
   "pygments_lexer": "ipython3",
   "version": "3.10.13"
  }
 },
 "nbformat": 4,
 "nbformat_minor": 2
}
